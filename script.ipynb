{
 "cells": [
  {
   "cell_type": "code",
   "execution_count": 1,
   "metadata": {},
   "outputs": [],
   "source": [
    "## Done by Nayan Man Singh Pradhan"
   ]
  },
  {
   "cell_type": "markdown",
   "metadata": {},
   "source": [
    "## Importing Libraries"
   ]
  },
  {
   "cell_type": "code",
   "execution_count": 2,
   "metadata": {},
   "outputs": [],
   "source": [
    "## importing\n",
    "import pandas as pd\n",
    "import numpy as np\n",
    "import urllib.request\n",
    "import json\n",
    "import string\n",
    "import spacy\n",
    "from spacy.lang.de.stop_words import STOP_WORDS\n",
    "import nltk\n",
    "import matplotlib.pyplot as plt\n",
    "from sklearn.svm import LinearSVC\n",
    "from sklearn.feature_extraction.text import TfidfVectorizer\n",
    "from sklearn.pipeline import Pipeline\n",
    "from sklearn.model_selection import train_test_split\n",
    "from sklearn.metrics import accuracy_score, classification_report, confusion_matrix\n",
    "from sklearn.neighbors import KNeighborsClassifier\n",
    "from sklearn import svm\n",
    "from google_trans_new import google_translator"
   ]
  },
  {
   "cell_type": "markdown",
   "metadata": {},
   "source": [
    "## Reading and Visualizing Data"
   ]
  },
  {
   "cell_type": "code",
   "execution_count": 3,
   "metadata": {},
   "outputs": [
    {
     "data": {
      "text/html": [
       "<div>\n",
       "<style scoped>\n",
       "    .dataframe tbody tr th:only-of-type {\n",
       "        vertical-align: middle;\n",
       "    }\n",
       "\n",
       "    .dataframe tbody tr th {\n",
       "        vertical-align: top;\n",
       "    }\n",
       "\n",
       "    .dataframe thead th {\n",
       "        text-align: right;\n",
       "    }\n",
       "</style>\n",
       "<table border=\"1\" class=\"dataframe\">\n",
       "  <thead>\n",
       "    <tr style=\"text-align: right;\">\n",
       "      <th></th>\n",
       "      <th>text</th>\n",
       "      <th>label</th>\n",
       "    </tr>\n",
       "  </thead>\n",
       "  <tbody>\n",
       "    <tr>\n",
       "      <th>0</th>\n",
       "      <td>Standort Trovarit AG München, Deutschland</td>\n",
       "      <td>none</td>\n",
       "    </tr>\n",
       "    <tr>\n",
       "      <th>1</th>\n",
       "      <td>Wir freuen uns auf Ihre Bewerbung unter Angabe...</td>\n",
       "      <td>none</td>\n",
       "    </tr>\n",
       "    <tr>\n",
       "      <th>2</th>\n",
       "      <td>Qualifikation zur Heimleitung gemäß Heimperson...</td>\n",
       "      <td>tech</td>\n",
       "    </tr>\n",
       "    <tr>\n",
       "      <th>3</th>\n",
       "      <td>Gute organisatorische und konzeptionelle Fähig...</td>\n",
       "      <td>soft</td>\n",
       "    </tr>\n",
       "    <tr>\n",
       "      <th>4</th>\n",
       "      <td>Teamfähigkeit, hohe Flexibilität und Einsatzbe...</td>\n",
       "      <td>soft</td>\n",
       "    </tr>\n",
       "  </tbody>\n",
       "</table>\n",
       "</div>"
      ],
      "text/plain": [
       "                                                text label\n",
       "0          Standort Trovarit AG München, Deutschland  none\n",
       "1  Wir freuen uns auf Ihre Bewerbung unter Angabe...  none\n",
       "2  Qualifikation zur Heimleitung gemäß Heimperson...  tech\n",
       "3  Gute organisatorische und konzeptionelle Fähig...  soft\n",
       "4  Teamfähigkeit, hohe Flexibilität und Einsatzbe...  soft"
      ]
     },
     "execution_count": 3,
     "metadata": {},
     "output_type": "execute_result"
    }
   ],
   "source": [
    "## reading data\n",
    "df = pd.read_json('https://talentbait-assets.s3.eu-central-1.amazonaws.com/tech_soft_none.json')\n",
    "# df = pd.read_json('dataset.json')\n",
    "df = pd.json_normalize(df['data'])\n",
    "df.head()"
   ]
  },
  {
   "cell_type": "code",
   "execution_count": 4,
   "metadata": {},
   "outputs": [],
   "source": [
    "## defining names\n",
    "text = df['text']\n",
    "label = df['label']"
   ]
  },
  {
   "cell_type": "code",
   "execution_count": 5,
   "metadata": {},
   "outputs": [
    {
     "name": "stdout",
     "output_type": "stream",
     "text": [
      "none    4325\n",
      "soft    3635\n",
      "tech    2289\n",
      "Name: label, dtype: int64\n"
     ]
    },
    {
     "data": {
      "image/png": "[encoded data removed]",
      "text/plain": [
       "<Figure size 432x288 with 1 Axes>"
      ]
     },
     "metadata": {
      "needs_background": "light"
     },
     "output_type": "display_data"
    }
   ],
   "source": [
    "## checking data\n",
    "print(df[\"label\"].value_counts())\n",
    "\n",
    "## visualizing\n",
    "fig = plt.figure()\n",
    "ax = fig.add_axes([0,0,1,1])\n",
    "x_axis = [\"none\", \"soft\", \"tech\"]\n",
    "y_axis = [df[\"label\"].value_counts()[0],df[\"label\"].value_counts()[1],df[\"label\"].value_counts()[2]]\n",
    "ax.bar(x_axis, y_axis)\n",
    "plt.show()"
   ]
  },
  {
   "cell_type": "markdown",
   "metadata": {},
   "source": [
    "## Cleaning data"
   ]
  },
  {
   "cell_type": "code",
   "execution_count": 6,
   "metadata": {},
   "outputs": [],
   "source": [
    "## helpers for data cleaning\n",
    "punctuation = string.punctuation\n",
    "stop_words = list(STOP_WORDS)\n",
    "nlp = spacy.load('de_core_news_sm')\n",
    "numbers = string.digits\n",
    "# print(stop_words)"
   ]
  },
  {
   "cell_type": "code",
   "execution_count": 7,
   "metadata": {},
   "outputs": [],
   "source": [
    "## function that cleans input text\n",
    "def cleaning_function(input_text):\n",
    "    text = nlp(input_text)\n",
    "    tokens = []\n",
    "    for token in text:\n",
    "        temp = token.lemma_.lower()\n",
    "        tokens.append(temp)\n",
    "\n",
    "    cleaned_tokens = []\n",
    "    for token in tokens:\n",
    "        if token not in stop_words and token not in punctuation and token not in numbers:\n",
    "            cleaned_tokens.append(token)\n",
    "    return cleaned_tokens"
   ]
  },
  {
   "cell_type": "code",
   "execution_count": 8,
   "metadata": {},
   "outputs": [],
   "source": [
    "## test\n",
    "# cleaned_text = cleaning_function(text[1])\n",
    "# print(cleaned_text)"
   ]
  },
  {
   "cell_type": "markdown",
   "metadata": {},
   "source": [
    "## Classifying Data: Training and Testing"
   ]
  },
  {
   "cell_type": "code",
   "execution_count": 9,
   "metadata": {},
   "outputs": [],
   "source": [
    "## variables for train and test data\n",
    "X = text\n",
    "y = label"
   ]
  },
  {
   "cell_type": "markdown",
   "metadata": {},
   "source": [
    "<a id='SVC_score'></a>\n",
    "### SVC training and score"
   ]
  },
  {
   "cell_type": "code",
   "execution_count": 10,
   "metadata": {},
   "outputs": [
    {
     "name": "stdout",
     "output_type": "stream",
     "text": [
      "Classification Report for SVC:\n",
      "              precision    recall  f1-score   support\n",
      "\n",
      "        none       0.94      0.98      0.96      1337\n",
      "        soft       0.94      0.94      0.94      1068\n",
      "        tech       0.94      0.87      0.90       670\n",
      "\n",
      "    accuracy                           0.94      3075\n",
      "   macro avg       0.94      0.93      0.93      3075\n",
      "weighted avg       0.94      0.94      0.94      3075\n",
      "\n",
      "Confusion Matrix for SVC:\n",
      "[[1313   13   11]\n",
      " [  43 1000   25]\n",
      " [  43   46  581]]\n"
     ]
    }
   ],
   "source": [
    "## SVC using tfidf (bag of words)\n",
    "\n",
    "tfidf = TfidfVectorizer(tokenizer = cleaning_function)\n",
    "classifier = LinearSVC()\n",
    "X_train, X_test, y_train, y_test = train_test_split(X, y, test_size = 0.3, random_state=50)\n",
    "SVC_clf = Pipeline([('tfidf', tfidf), ('clf', classifier)])\n",
    "SVC_clf.fit(X_train, y_train)\n",
    "y_pred = SVC_clf.predict(X_test)\n",
    "\n",
    "print(\"Classification Report for SVC:\")\n",
    "print(classification_report(y_test, y_pred))\n",
    "\n",
    "print(\"Confusion Matrix for SVC:\")\n",
    "print(confusion_matrix(y_test, y_pred))"
   ]
  },
  {
   "cell_type": "markdown",
   "metadata": {},
   "source": [
    "<a id='KNN_score'></a>\n",
    "### KNN training and score"
   ]
  },
  {
   "cell_type": "code",
   "execution_count": 11,
   "metadata": {},
   "outputs": [
    {
     "name": "stdout",
     "output_type": "stream",
     "text": [
      "Classification Report for KNN:\n",
      "              precision    recall  f1-score   support\n",
      "\n",
      "        none       0.65      0.99      0.79      1337\n",
      "        soft       0.96      0.70      0.81      1068\n",
      "        tech       0.95      0.37      0.53       670\n",
      "\n",
      "    accuracy                           0.75      3075\n",
      "   macro avg       0.85      0.69      0.71      3075\n",
      "weighted avg       0.82      0.75      0.74      3075\n",
      "\n",
      "Confusion Matrix for KNN:\n",
      "[[1326    8    3]\n",
      " [ 313  744   11]\n",
      " [ 394   27  249]]\n"
     ]
    }
   ],
   "source": [
    "## KNN using tfidf (bag of words)\n",
    "\n",
    "tfidf = TfidfVectorizer(tokenizer = cleaning_function)\n",
    "classifier = KNeighborsClassifier(n_neighbors=3)\n",
    "\n",
    "X_train, X_test, y_train, y_test = train_test_split(X, y, test_size = 0.3, random_state=50)\n",
    "\n",
    "KNN_clf = Pipeline([('tfidf', tfidf), ('clf', classifier)])\n",
    "KNN_clf.fit(X_train, y_train)\n",
    "y_pred = KNN_clf.predict(X_test)\n",
    "\n",
    "print(\"Classification Report for KNN:\")\n",
    "print(classification_report(y_test, y_pred))\n",
    "\n",
    "print(\"Confusion Matrix for KNN:\")\n",
    "print(confusion_matrix(y_test, y_pred))"
   ]
  },
  {
   "cell_type": "markdown",
   "metadata": {},
   "source": [
    "## Testing Trained Model on User Input\n",
    "<a id='TTMUI'></a>"
   ]
  },
  {
   "cell_type": "code",
   "execution_count": 12,
   "metadata": {},
   "outputs": [
    {
     "name": "stdout",
     "output_type": "stream",
     "text": [
      "Enter your input in German: gute Kommunikationsfähigkeiten\n",
      "\n",
      "\n",
      "Prediction via SVC: soft\n",
      "Prediction via KNN: soft\n"
     ]
    }
   ],
   "source": [
    "## predicting via user input\n",
    "\n",
    "user_input_text = input(\"Enter your input in German: \")\n",
    "\n",
    "## additional translation feature if input is not in German\n",
    "translator = google_translator()\n",
    "if(translator.detect(user_input_text)[0]!='de'):\n",
    "    print(\"Input language detected:\", translator.detect(user_input_text)[1])\n",
    "    in_german = translator.translate(user_input_text, lang_tgt='de')\n",
    "    print(\"Translated to German:\", in_german)\n",
    "    user_input_text = in_german\n",
    "\n",
    "svc_pred = SVC_clf.predict([user_input_text])\n",
    "knn_pred = KNN_clf.predict([user_input_text])\n",
    "\n",
    "print(\"\\n\")\n",
    "\n",
    "print (\"Prediction via SVC:\", svc_pred[0])\n",
    "print (\"Prediction via KNN:\", knn_pred[0])"
   ]
  },
  {
   "cell_type": "markdown",
   "metadata": {},
   "source": [
    "## Visualizing most Frequent Words for Different Labels after Cleaning Data\n",
    "<a id='VMFWDL'></a>"
   ]
  },
  {
   "cell_type": "code",
   "execution_count": 13,
   "metadata": {},
   "outputs": [],
   "source": [
    "## splitting data based on label\n",
    "\n",
    "only_tech_tokens = []\n",
    "only_soft_tokens = []\n",
    "only_none_tokens = []\n",
    "\n",
    "for i in range(0, text.shape[0]):\n",
    "    clean_token = cleaning_function(text[i])\n",
    "    \n",
    "    if label[i] == \"tech\":\n",
    "        for t in clean_token:\n",
    "            only_tech_tokens.append(t)\n",
    "            \n",
    "    elif label[i] == \"soft\":\n",
    "        for t in clean_token:\n",
    "            only_soft_tokens.append(t)\n",
    "            \n",
    "    else:\n",
    "        for t in clean_token:\n",
    "            only_none_tokens.append(t)\n",
    "            \n",
    "freq_tech_tokens = nltk.FreqDist(only_tech_tokens)\n",
    "freq_soft_tokens = nltk.FreqDist(only_soft_tokens)\n",
    "freq_none_tokens = nltk.FreqDist(only_none_tokens)"
   ]
  },
  {
   "cell_type": "markdown",
   "metadata": {},
   "source": [
    "### Most frequent word in label: 'none'\n",
    "<a id='g_none'></a>"
   ]
  },
  {
   "cell_type": "code",
   "execution_count": 14,
   "metadata": {},
   "outputs": [
    {
     "name": "stdout",
     "output_type": "stream",
     "text": [
      "Visual representation of most common words used in dataset of label 'none'\n"
     ]
    },
    {
     "data": {
      "image/png": "[encoded data removed]",
      "text/plain": [
       "<Figure size 432x288 with 1 Axes>"
      ]
     },
     "metadata": {
      "needs_background": "light"
     },
     "output_type": "display_data"
    },
    {
     "data": {
      "text/plain": [
       "<matplotlib.axes._subplots.AxesSubplot at 0x7f98ed3386d0>"
      ]
     },
     "execution_count": 14,
     "metadata": {},
     "output_type": "execute_result"
    }
   ],
   "source": [
    "## most common words used in dataset of label none\n",
    "print(\"Visual representation of most common words used in dataset of label 'none'\")\n",
    "freq_none_tokens.plot(30, cumulative=False)"
   ]
  },
  {
   "cell_type": "markdown",
   "metadata": {},
   "source": [
    "### Most frequent word in label: 'tech'\n",
    "<a id='g_tech'></a>"
   ]
  },
  {
   "cell_type": "code",
   "execution_count": 15,
   "metadata": {},
   "outputs": [
    {
     "name": "stdout",
     "output_type": "stream",
     "text": [
      "Visual representation of most common words used in dataset of label 'tech'\n"
     ]
    },
    {
     "data": {
      "image/png": "[encoded data removed]",
      "text/plain": [
       "<Figure size 432x288 with 1 Axes>"
      ]
     },
     "metadata": {
      "needs_background": "light"
     },
     "output_type": "display_data"
    },
    {
     "data": {
      "text/plain": [
       "<matplotlib.axes._subplots.AxesSubplot at 0x7f990ccf72d0>"
      ]
     },
     "execution_count": 15,
     "metadata": {},
     "output_type": "execute_result"
    }
   ],
   "source": [
    "## most common words used in dataset of label tech\n",
    "print(\"Visual representation of most common words used in dataset of label 'tech'\")\n",
    "freq_tech_tokens.plot(30, cumulative=False)"
   ]
  },
  {
   "cell_type": "markdown",
   "metadata": {},
   "source": [
    "### Most frequent word in label: 'soft'\n",
    "<a id='g_soft'></a>"
   ]
  },
  {
   "cell_type": "code",
   "execution_count": 16,
   "metadata": {},
   "outputs": [
    {
     "name": "stdout",
     "output_type": "stream",
     "text": [
      "Visual representation of most common words used in dataset of label 'soft'\n"
     ]
    },
    {
     "data": {
      "image/png": "[encoded data removed]",
      "text/plain": [
       "<Figure size 432x288 with 1 Axes>"
      ]
     },
     "metadata": {
      "needs_background": "light"
     },
     "output_type": "display_data"
    },
    {
     "data": {
      "text/plain": [
       "<matplotlib.axes._subplots.AxesSubplot at 0x7f990ebe9590>"
      ]
     },
     "execution_count": 16,
     "metadata": {},
     "output_type": "execute_result"
    }
   ],
   "source": [
    "## most common words used in dataset of label soft\n",
    "print(\"Visual representation of most common words used in dataset of label 'soft'\")\n",
    "freq_soft_tokens.plot(30, cumulative=False)"
   ]
  },
  {
   "cell_type": "markdown",
   "metadata": {},
   "source": [
    "## Hosting web application"
   ]
  },
  {
   "cell_type": "code",
   "execution_count": 17,
   "metadata": {},
   "outputs": [
    {
     "name": "stdout",
     "output_type": "stream",
     "text": [
      "Connecting to wss://anvil.works/uplink\n",
      "Anvil websocket open\n",
      "Connected to \"Default environment (dev)\" as SERVER\n"
     ]
    }
   ],
   "source": [
    "## anvil to host web application\n",
    "import anvil.server\n",
    "anvil.server.connect(\"I6ZCACWHQSGJRHKJKAK4CEPD-KDZYNHP6HUKJWUBA\")"
   ]
  },
  {
   "cell_type": "code",
   "execution_count": 18,
   "metadata": {},
   "outputs": [],
   "source": [
    "@anvil.server.callable\n",
    "def predict_class(user_input):\n",
    "    translator = google_translator()\n",
    "    if(translator.detect(user_input)[0]!='de'):\n",
    "        user_input = translator.translate(user_input, lang_tgt='de')\n",
    "    return (SVC_clf.predict([user_input])[0])"
   ]
  },
  {
   "cell_type": "markdown",
   "metadata": {},
   "source": [
    "**Accessible via:**\n",
    "https://KDZYNHP6HUKJWUBA.anvil.app/TYLJ73PI6MEOA76NVDBMX4JS"
   ]
  },
  {
   "cell_type": "markdown",
   "metadata": {},
   "source": [
    "## Command Line Application\n",
    "**Accessible via running:**\n",
    "_python3 application.py_\n",
    "**in terminal**"
   ]
  },
  {
   "cell_type": "markdown",
   "metadata": {},
   "source": [
    "## Explaination of my Model and Approach\n",
    "\n",
    "My classification pipeline consists of a **tfidf element** and a **classifier element**.\n",
    "\n",
    "The tfidf element converts the sentences into tokens and cleans the input data. In order to clean the input data, I made a function that does the following:\n",
    "1. Convert the sentences into tokens\n",
    "2. Lemmatisation/Stemming of the tokens such that words like wir -> ich, bin -> sein etc belong to the same 'stem'\n",
    "3. Convert all alphabets into lower case alphabets\n",
    "4. Remove stop words like: weiter, solchen, zehntes\n",
    "5. Remove punctuations like: .,!\n",
    "\n",
    "After the data is cleaned, the tfidf (term frequency-inverse document frequency) is responsible of giving weights (importance) to words based on the logarithmic ratio of the number of documents to the document frequency of the word. That means, if a word is common in all three labels, the word is given less weight as compared to another word that is only present in one label.\n",
    "\n",
    "I tested the classifier element with two classifying algorithms: Linear SVC and KNN. I observed that the Linear SVC performed much better than the KNN, hence, I used the model from the Linear SVC for my web application and command line application. The Linear SVC model gave good and accurate results, hence, it is a good model for the dataset. The SVC is good for this task because the instance is of a very high dimension and the feature vectors are sparse, which makes differentiating areas for distinct feature space more accurate. The full classification report and confusion matrix for Linear SVC and KNN can be found here:\n",
    "\n",
    "[Linear SVC Score](#SVC_score)  \n",
    "[KNN Score](#KNN_score)\n",
    "\n",
    "After I got the classification report, I tested the model using my own input text (under [Testing Trained Model on User Input](#TTMUI)). I also added an **additional feature** which allows the user to input the text in any language supported by the 'google_trans_new' library (The list of supported languages can be found in [this](https://duyguaran.medium.com/how-to-use-google-trans-new-346ab827a4eb) article). The algorithm detects the input language and translates the text into German (if the detected text is not in German) and feeds the translated text into the pipeline in order to predict the label. This feature is also implemented in the Web Application and Command Line Application.\n",
    "\n",
    "In order to visualize the data, I made 3 additional graphs (under [Visualizing most Frequent Words for Different Labels](#VMFWDL) that graphs the 30 most frequent words in the x-axis and their count in the y-axis for the 3 different labesl: [none](#g_none), [tech](#g_tech), and [soft](#g_soft). This frequency data can be used to observe/visualize what tokens/words were the most common/weighted while classifying the data.\n",
    "\n",
    "The web application is hosted by Anvil. It can be accessed by connecting the the server and opening the link on any computer.\n",
    "\n",
    "The Command Line Application is made by using two files: 'pickle_dumper.py' and 'application.py'. 'pickle_dumper.py' is where the data is trained and dumped into the pickle file and the 'application.py' file is where the command prompt UI is made and prediciton is done. Only running 'python3 application.py' through terminal executes the program."
   ]
  },
  {
   "cell_type": "markdown",
   "metadata": {},
   "source": [
    "## Suggestions\n",
    "- Maybe in the future, the dataset could have more than 3 labels such that the candidates can classify the skills in more detail."
   ]
  },
  {
   "cell_type": "code",
   "execution_count": null,
   "metadata": {},
   "outputs": [],
   "source": []
  }
 ],
 "metadata": {
  "kernelspec": {
   "display_name": "Python 3",
   "language": "python",
   "name": "python3"
  },
  "language_info": {
   "codemirror_mode": {
    "name": "ipython",
    "version": 3
   },
   "file_extension": ".py",
   "mimetype": "text/x-python",
   "name": "python",
   "nbconvert_exporter": "python",
   "pygments_lexer": "ipython3",
   "version": "3.7.6"
  }
 },
 "nbformat": 4,
 "nbformat_minor": 4
}
