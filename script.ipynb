{
 "cells": [
  {
   "cell_type": "code",
   "execution_count": 677,
   "metadata": {},
   "outputs": [],
   "source": [
    "## importing\n",
    "import pandas as pd\n",
    "import numpy as np\n",
    "import urllib.request\n",
    "import json\n",
    "import string\n",
    "import spacy\n",
    "from spacy.lang.de.stop_words import STOP_WORDS\n",
    "import nltk\n",
    "import matplotlib.pyplot as plt\n",
    "from sklearn.svm import LinearSVC\n",
    "from sklearn.feature_extraction.text import TfidfVectorizer\n",
    "from sklearn.pipeline import Pipeline\n",
    "from sklearn.model_selection import train_test_split\n",
    "from sklearn.metrics import accuracy_score, classification_report, confusion_matrix\n",
    "from sklearn.neighbors import KNeighborsClassifier\n",
    "from sklearn import svm\n",
    "from google_trans_new import google_translator"
   ]
  },
  {
   "cell_type": "code",
   "execution_count": 625,
   "metadata": {},
   "outputs": [
    {
     "data": {
      "text/html": [
       "<div>\n",
       "<style scoped>\n",
       "    .dataframe tbody tr th:only-of-type {\n",
       "        vertical-align: middle;\n",
       "    }\n",
       "\n",
       "    .dataframe tbody tr th {\n",
       "        vertical-align: top;\n",
       "    }\n",
       "\n",
       "    .dataframe thead th {\n",
       "        text-align: right;\n",
       "    }\n",
       "</style>\n",
       "<table border=\"1\" class=\"dataframe\">\n",
       "  <thead>\n",
       "    <tr style=\"text-align: right;\">\n",
       "      <th></th>\n",
       "      <th>text</th>\n",
       "      <th>label</th>\n",
       "    </tr>\n",
       "  </thead>\n",
       "  <tbody>\n",
       "    <tr>\n",
       "      <th>0</th>\n",
       "      <td>Standort Trovarit AG München, Deutschland</td>\n",
       "      <td>none</td>\n",
       "    </tr>\n",
       "    <tr>\n",
       "      <th>1</th>\n",
       "      <td>Wir freuen uns auf Ihre Bewerbung unter Angabe...</td>\n",
       "      <td>none</td>\n",
       "    </tr>\n",
       "    <tr>\n",
       "      <th>2</th>\n",
       "      <td>Qualifikation zur Heimleitung gemäß Heimperson...</td>\n",
       "      <td>tech</td>\n",
       "    </tr>\n",
       "    <tr>\n",
       "      <th>3</th>\n",
       "      <td>Gute organisatorische und konzeptionelle Fähig...</td>\n",
       "      <td>soft</td>\n",
       "    </tr>\n",
       "    <tr>\n",
       "      <th>4</th>\n",
       "      <td>Teamfähigkeit, hohe Flexibilität und Einsatzbe...</td>\n",
       "      <td>soft</td>\n",
       "    </tr>\n",
       "  </tbody>\n",
       "</table>\n",
       "</div>"
      ],
      "text/plain": [
       "                                                text label\n",
       "0          Standort Trovarit AG München, Deutschland  none\n",
       "1  Wir freuen uns auf Ihre Bewerbung unter Angabe...  none\n",
       "2  Qualifikation zur Heimleitung gemäß Heimperson...  tech\n",
       "3  Gute organisatorische und konzeptionelle Fähig...  soft\n",
       "4  Teamfähigkeit, hohe Flexibilität und Einsatzbe...  soft"
      ]
     },
     "execution_count": 625,
     "metadata": {},
     "output_type": "execute_result"
    }
   ],
   "source": [
    "## reading data\n",
    "df = pd.read_json('https://talentbait-assets.s3.eu-central-1.amazonaws.com/tech_soft_none.json')\n",
    "# df = pd.read_json('dataset.json')\n",
    "df = pd.json_normalize(data['data'])\n",
    "df.head()"
   ]
  },
  {
   "cell_type": "code",
   "execution_count": 626,
   "metadata": {},
   "outputs": [],
   "source": [
    "## defining names\n",
    "text = df['text']\n",
    "label = df['label']"
   ]
  },
  {
   "cell_type": "code",
   "execution_count": 669,
   "metadata": {},
   "outputs": [
    {
     "name": "stdout",
     "output_type": "stream",
     "text": [
      "none    4325\n",
      "soft    3635\n",
      "tech    2289\n",
      "Name: label, dtype: int64\n"
     ]
    },
    {
     "data": {
      "image/png": "[encoded data removed]",
      "text/plain": [
       "<Figure size 432x288 with 1 Axes>"
      ]
     },
     "metadata": {
      "needs_background": "light"
     },
     "output_type": "display_data"
    }
   ],
   "source": [
    "## checking data\n",
    "print(df[\"label\"].value_counts())\n",
    "\n",
    "## visualizing\n",
    "fig = plt.figure()\n",
    "ax = fig.add_axes([0,0,1,1])\n",
    "x_axis = [\"none\", \"soft\", \"tech\"]\n",
    "y_axis = [df[\"label\"].value_counts()[0],df[\"label\"].value_counts()[1],df[\"label\"].value_counts()[2]]\n",
    "ax.bar(x_axis, y_axis)\n",
    "plt.show()"
   ]
  },
  {
   "cell_type": "code",
   "execution_count": 628,
   "metadata": {},
   "outputs": [],
   "source": [
    "## helpers for data cleaning\n",
    "punctuation = string.punctuation\n",
    "stop_words = list(STOP_WORDS)\n",
    "nlp = spacy.load('de_core_news_sm')\n",
    "# stemmer = SnowballStemmer(\"german\")"
   ]
  },
  {
   "cell_type": "code",
   "execution_count": 629,
   "metadata": {},
   "outputs": [],
   "source": [
    "## function that cleans input text\n",
    "def cleaning_function(input_text):\n",
    "    text = nlp(input_text)\n",
    "    tokens = []\n",
    "    for token in text:\n",
    "        temp = token.lemma_.lower()\n",
    "        tokens.append(temp)\n",
    "\n",
    "    cleaned_tokens = []\n",
    "    for token in tokens:\n",
    "        if token not in stop_words and token not in punctuation:\n",
    "            cleaned_tokens.append(token)\n",
    "    return cleaned_tokens"
   ]
  },
  {
   "cell_type": "code",
   "execution_count": 630,
   "metadata": {},
   "outputs": [],
   "source": [
    "# cleaned_text = cleaning_function_2(text[1])\n",
    "# print(cleaned_text)"
   ]
  },
  {
   "cell_type": "code",
   "execution_count": 631,
   "metadata": {},
   "outputs": [],
   "source": [
    "## variables for train and test data\n",
    "X = text\n",
    "y = label"
   ]
  },
  {
   "cell_type": "code",
   "execution_count": 632,
   "metadata": {},
   "outputs": [
    {
     "name": "stdout",
     "output_type": "stream",
     "text": [
      "Classification Report:\n",
      "              precision    recall  f1-score   support\n",
      "\n",
      "        none       0.94      0.98      0.96      1337\n",
      "        soft       0.95      0.94      0.94      1068\n",
      "        tech       0.94      0.87      0.90       670\n",
      "\n",
      "    accuracy                           0.94      3075\n",
      "   macro avg       0.94      0.93      0.94      3075\n",
      "weighted avg       0.94      0.94      0.94      3075\n",
      "\n",
      "Confusion Matrix:\n",
      "[[1314   12   11]\n",
      " [  43 1000   25]\n",
      " [  41   46  583]]\n"
     ]
    }
   ],
   "source": [
    "## SVC using tfidf (bag of words)\n",
    "\n",
    "tfidf = TfidfVectorizer(tokenizer = cleaning_function)\n",
    "classifier = LinearSVC()\n",
    "X_train, X_test, y_train, y_test = train_test_split(X, y, test_size = 0.3, random_state=50)\n",
    "# print(X_train.shape, X_test.shape)\n",
    "SVC_clf = Pipeline([('tfidf', tfidf), ('clf', classifier)])\n",
    "SVC_clf.fit(X_train, y_train)\n",
    "y_pred = SVC_clf.predict(X_test)\n",
    "\n",
    "print(\"Classification Report:\")\n",
    "print(classification_report(y_test, y_pred))\n",
    "\n",
    "print(\"Confusion Matrix:\")\n",
    "print(confusion_matrix(y_test, y_pred))"
   ]
  },
  {
   "cell_type": "code",
   "execution_count": 634,
   "metadata": {},
   "outputs": [
    {
     "name": "stdout",
     "output_type": "stream",
     "text": [
      "Classification Report:\n",
      "              precision    recall  f1-score   support\n",
      "\n",
      "        none       0.65      0.99      0.79      1337\n",
      "        soft       0.96      0.70      0.81      1068\n",
      "        tech       0.95      0.37      0.53       670\n",
      "\n",
      "    accuracy                           0.75      3075\n",
      "   macro avg       0.85      0.69      0.71      3075\n",
      "weighted avg       0.82      0.75      0.74      3075\n",
      "\n",
      "Confusion Matrix:\n",
      "[[1327    7    3]\n",
      " [ 314  743   11]\n",
      " [ 394   27  249]]\n"
     ]
    }
   ],
   "source": [
    "### KNN using tfidf (bag of words)\n",
    "\n",
    "tfidf = TfidfVectorizer(tokenizer = cleaning_function)\n",
    "classifier = KNeighborsClassifier(n_neighbors=3)\n",
    "\n",
    "X_train, X_test, y_train, y_test = train_test_split(X, y, test_size = 0.3, random_state=50)\n",
    "\n",
    "KNN_clf = Pipeline([('tfidf', tfidf), ('clf', classifier)])\n",
    "KNN_clf.fit(X_train, y_train)\n",
    "y_pred = KNN_clf.predict(X_test)\n",
    "\n",
    "print(\"Classification Report:\")\n",
    "print(classification_report(y_test, y_pred))\n",
    "\n",
    "print(\"Confusion Matrix:\")\n",
    "print(confusion_matrix(y_test, y_pred))"
   ]
  },
  {
   "cell_type": "code",
   "execution_count": 636,
   "metadata": {},
   "outputs": [
    {
     "name": "stdout",
     "output_type": "stream",
     "text": [
      "Classification Report:\n",
      "              precision    recall  f1-score   support\n",
      "\n",
      "        none       0.95      0.98      0.96      1337\n",
      "        soft       0.94      0.94      0.94      1068\n",
      "        tech       0.94      0.88      0.91       670\n",
      "\n",
      "    accuracy                           0.94      3075\n",
      "   macro avg       0.94      0.93      0.94      3075\n",
      "weighted avg       0.94      0.94      0.94      3075\n",
      "\n",
      "Confusion Matrix:\n",
      "[[1308   16   13]\n",
      " [  39 1005   24]\n",
      " [  36   47  587]]\n"
     ]
    }
   ],
   "source": [
    "### SVM using tfidf (bag of words)\n",
    "\n",
    "tfidf = TfidfVectorizer(tokenizer = cleaning_function)\n",
    "classifier = svm.SVC(kernel='linear', C=2)\n",
    "\n",
    "X_train, X_test, y_train, y_test = train_test_split(X, y, test_size = 0.3, random_state=50)\n",
    "\n",
    "SVM_clf = Pipeline([('tfidf', tfidf), ('clf', classifier)])\n",
    "SVM_clf.fit(X_train, y_train)\n",
    "y_pred = SVM_clf.predict(X_test)\n",
    "\n",
    "print(\"Classification Report:\")\n",
    "print(classification_report(y_test, y_pred))\n",
    "\n",
    "print(\"Confusion Matrix:\")\n",
    "print(confusion_matrix(y_test, y_pred))"
   ]
  },
  {
   "cell_type": "code",
   "execution_count": 700,
   "metadata": {},
   "outputs": [
    {
     "name": "stdout",
     "output_type": "stream",
     "text": [
      "Enter your input in German: gute in python\n",
      "\n",
      "\n",
      "Prediction via SVC: tech\n",
      "Prediction via KNN: none\n",
      "Prediction via SVM: none\n"
     ]
    }
   ],
   "source": [
    "## predicting via user input\n",
    "\n",
    "user_input_text = input(\"Enter your input in German: \")\n",
    "\n",
    "## additional translation feature if input is not in German\n",
    "translator = google_translator()\n",
    "if(translator.detect(user_input_text)[0]!='de'):\n",
    "    print(\"Input language detected:\", translator.detect(user_input_text)[1])\n",
    "    in_german = translator.translate(user_input_text, lang_tgt='de')\n",
    "    print(\"Translated to German:\", in_german)\n",
    "    user_input_text = in_german\n",
    "\n",
    "svc_pred = SVC_clf.predict([user_input_text])\n",
    "knn_pred = KNN_clf.predict([user_input_text])\n",
    "svm_pred = SVM_clf.predict([user_input_text])\n",
    "\n",
    "print(\"\\n\")\n",
    "\n",
    "print (\"Prediction via SVC:\", svc_pred[0])\n",
    "print (\"Prediction via KNN:\", knn_pred[0])\n",
    "print (\"Prediction via SVM:\", knn_pred[0])"
   ]
  },
  {
   "cell_type": "code",
   "execution_count": 656,
   "metadata": {},
   "outputs": [],
   "source": [
    "only_tech_tokens = []\n",
    "only_soft_tokens = []\n",
    "only_none_tokens = []\n",
    "\n",
    "for i in range(0, text.shape[0]):\n",
    "    clean_token = cleaning_function(text[i])\n",
    "    \n",
    "    if label[i] == \"tech\":\n",
    "        for t in clean_token:\n",
    "            only_tech_tokens.append(t)\n",
    "            \n",
    "    elif label[i] == \"soft\":\n",
    "        for t in clean_token:\n",
    "            only_soft_tokens.append(t)\n",
    "            \n",
    "    else:\n",
    "        for t in clean_token:\n",
    "            only_none_tokens.append(t)\n",
    "            \n",
    "freq_tech_tokens = nltk.FreqDist(only_tech_tokens)\n",
    "freq_soft_tokens = nltk.FreqDist(only_soft_tokens)\n",
    "freq_none_tokens = nltk.FreqDist(only_none_tokens)"
   ]
  },
  {
   "cell_type": "code",
   "execution_count": 658,
   "metadata": {},
   "outputs": [
    {
     "name": "stdout",
     "output_type": "stream",
     "text": [
      "Visual representation of most common words used in dataset of label 'none'\n"
     ]
    },
    {
     "data": {
      "image/png": "[encoded data removed]",
      "text/plain": [
       "<Figure size 432x288 with 1 Axes>"
      ]
     },
     "metadata": {
      "needs_background": "light"
     },
     "output_type": "display_data"
    },
    {
     "data": {
      "text/plain": [
       "<matplotlib.axes._subplots.AxesSubplot at 0x7fdee7799ad0>"
      ]
     },
     "execution_count": 658,
     "metadata": {},
     "output_type": "execute_result"
    }
   ],
   "source": [
    "# Most common words used in dataset of label none\n",
    "print(\"Visual representation of most common words used in dataset of label 'none'\")\n",
    "freq_none_tokens.plot(30, cumulative=False)"
   ]
  },
  {
   "cell_type": "code",
   "execution_count": 659,
   "metadata": {},
   "outputs": [
    {
     "name": "stdout",
     "output_type": "stream",
     "text": [
      "Visual representation of most common words used in dataset of label 'tech'\n"
     ]
    },
    {
     "data": {
      "image/png": "[encoded data removed]",
      "text/plain": [
       "<Figure size 432x288 with 1 Axes>"
      ]
     },
     "metadata": {
      "needs_background": "light"
     },
     "output_type": "display_data"
    },
    {
     "data": {
      "text/plain": [
       "<matplotlib.axes._subplots.AxesSubplot at 0x7fdee8150250>"
      ]
     },
     "execution_count": 659,
     "metadata": {},
     "output_type": "execute_result"
    }
   ],
   "source": [
    "# Most common words used in dataset of label tech\n",
    "print(\"Visual representation of most common words used in dataset of label 'tech'\")\n",
    "freq_tech_tokens.plot(30, cumulative=False)"
   ]
  },
  {
   "cell_type": "code",
   "execution_count": 660,
   "metadata": {},
   "outputs": [
    {
     "name": "stdout",
     "output_type": "stream",
     "text": [
      "Visual representation of most common words used in dataset of label 'soft'\n"
     ]
    },
    {
     "data": {
      "image/png": "[encoded data removed]",
      "text/plain": [
       "<Figure size 432x288 with 1 Axes>"
      ]
     },
     "metadata": {
      "needs_background": "light"
     },
     "output_type": "display_data"
    },
    {
     "data": {
      "text/plain": [
       "<matplotlib.axes._subplots.AxesSubplot at 0x7fdee84863d0>"
      ]
     },
     "execution_count": 660,
     "metadata": {},
     "output_type": "execute_result"
    }
   ],
   "source": [
    "# Most common words used in dataset of label soft\n",
    "print(\"Visual representation of most common words used in dataset of label 'soft'\")\n",
    "freq_soft_tokens.plot(30, cumulative=False)"
   ]
  },
  {
   "cell_type": "code",
   "execution_count": 708,
   "metadata": {},
   "outputs": [],
   "source": [
    "import anvil.server\n",
    "anvil.server.connect(\"I6ZCACWHQSGJRHKJKAK4CEPD-KDZYNHP6HUKJWUBA\")"
   ]
  },
  {
   "cell_type": "code",
   "execution_count": 712,
   "metadata": {},
   "outputs": [],
   "source": [
    "@anvil.server.callable\n",
    "def predict_class(user_input):\n",
    "    translator = google_translator()\n",
    "    if(translator.detect(user_input)[0]!='de'):\n",
    "        user_input = translator.translate(user_input, lang_tgt='de')\n",
    "    return (SVC_clf.predict([user_input])[0])\n",
    "\n",
    "# Accessible via:\n",
    "# https://KDZYNHP6HUKJWUBA.anvil.app/TYLJ73PI6MEOA76NVDBMX4JS"
   ]
  },
  {
   "cell_type": "code",
   "execution_count": null,
   "metadata": {},
   "outputs": [],
   "source": []
  }
 ],
 "metadata": {
  "kernelspec": {
   "display_name": "Python 3",
   "language": "python",
   "name": "python3"
  },
  "language_info": {
   "codemirror_mode": {
    "name": "ipython",
    "version": 3
   },
   "file_extension": ".py",
   "mimetype": "text/x-python",
   "name": "python",
   "nbconvert_exporter": "python",
   "pygments_lexer": "ipython3",
   "version": "3.7.6"
  }
 },
 "nbformat": 4,
 "nbformat_minor": 4
}
